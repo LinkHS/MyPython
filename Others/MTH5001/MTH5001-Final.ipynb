{
 "cells": [
  {
   "cell_type": "markdown",
   "metadata": {},
   "source": [
    "# MTH5001:  Introduction to Computer Programming 2020/21\n",
    "\n",
    "## Final Report Project: \"Deconstructing SARS-CoV-2\"\n",
    "\n",
    "\n",
    "<div class=\"alert alert-block alert-danger\">\n",
    "    \n",
    "**IMPORTANT**: \n",
    "Start by filling in your Name and student ID below. **DO IT NOW**. Save this Jupyter Notebook with the name *MTH5001_surname_ID.ipynb*, where instead of *surname* and *ID* you write your surname and your student ID number.\n",
    "Use the available cells to introduce the code. You can add additional cells if needed. explain your code as much as possible with `# comments` </div>\n",
    "\n",
    "<div class=\"alert alert-block alert-warning\">\n",
    "### Name:\n",
    "\n",
    "### ID:\n",
    "\n",
    "\n",
    "\n",
    "\n",
    "<br />"
   ]
  },
  {
   "cell_type": "markdown",
   "metadata": {},
   "source": [
    "\n",
    "\n",
    "### Instructions:\n",
    "\n",
    "You must write your answers in this Jupyter Notebook, using either Markdown or Python code as appropriate. \n",
    "\n",
    "Your code must be **well documented**. As a rough guide, you should aim to include one line of comments for each line of code (but you may include more or fewer comments depending on the situation).\n",
    "\n",
    "The total number of marks available is 100. Attempt all parts of all questions.\n",
    "\n",
    "For this project, you are expected to write your code almost entirely 'from scratch', although you are allowed to use some specific packages like `numpy`, `matplotlib.pyplot`, etc.\n",
    "\n",
    "### Submission deadline:\n",
    "\n",
    "You must submit your work via QMPlus, to the \"Final Report Project\" assignment in the \"Final Report Project\" section under the \"Assessment\" tab.\n",
    "\n",
    "The submission deadline is **11:55pm on Thursday 6 May, 2021**. Late submissions will be penalised according to the School's [guidelines](https://qmplus.qmul.ac.uk/mod/book/view.php?id=1322478&chapterid=117475).\n",
    "\n",
    "Your lecturers will respond to project-related emails until 5:00pm on Tuesday 4 May, 2021, only. You should aim to have your project finished by this time.\n",
    "\n",
    "### Marking of projects:\n",
    "\n",
    "When writing up projects, good writing style is even more important than in written exams. According to the [advice](https://qmplus.qmul.ac.uk/mod/book/view.php?id=1322478&chapterid=117457) in the student handbook,\n",
    "\n",
    "> To get full marks in any assessed work (tests or exams) you must normally not only give the right answers but also explain your working clearly and give reasons for your answers by writing legible and grammatically correct English sentences. Mathematics is about logic and reasoned arguments and the only way to present a reasoned and logical argument is by writing about it clearly. Your writing may include numbers and other mathematical symbols, but they are not enough on their own. You should copy the writing style used in good mathematical textbooks, such as those recommended for your modules. **You can expect to lose marks for poor writing (incorrect grammar and spelling) as well as for poor mathematics (incorrect or unclear logic).**\n",
    "\n",
    "<div class=\"alert alert-block alert-danger\">\n",
    "    \n",
    "### Plagiarism warning:\n",
    "\n",
    "Your work will be tested for plagiarism, which is an assessment offence, according to the [School's policy on Plagiarism](https://qmplus.qmul.ac.uk/mod/book/view.php?id=1322478&chapterid=117458). In particular, while only academic staff will make a judgement on whether plagiarism has occurred in a piece of work, we will use the plagiarism detection software \"Turnitin\" to help us assess how much of work matches other sources. You will have the opportunity to upload your work, see the Turnitin result, and edit your work once accordingly before finalising your submission.\n",
    "\n",
    "\n",
    "However, you must use your own words as far as possible (within reason, e.g. you would not be expected to change the wording of a well-known theorem), and you **must** [reference](https://qmplus.qmul.ac.uk/mod/book/view.php?id=1322478&chapterid=117464) any sources that you use. You cannot communicate with other students on any part of the project. You should also note that some of the questions are personalised in the sense that you will need to import and manipulate data that will be unique to you (i.e. no other student will have the same data).\n",
    "\n",
    "\n",
    "\n",
    "\n",
    "\n"
   ]
  },
  {
   "cell_type": "markdown",
   "metadata": {},
   "source": [
    "---\n",
    "### Some context\n",
    "This project is an investigation on the genetic structure of SARS-CoV-2, the coronavirus that is causing the COVID-19 pandemic (or, at least, the original variant as it emerged in Wuhan). In particular, we are going to analyse in some detail a so-called DNA nucleotide sequence.\n",
    "\n",
    "So what is this?\n",
    "DNA stands for desoxyribonucleic acid. SARS-CoV-2 coronavirus is what is called a RNA (ribonucleic acid) virus, meaning that the genetic material of the virus is essentially simply a single strand of RNA, i.e. a long RNA chain.\n",
    "Both DNA and RNA are assembled as a chain of 'nucleotides', organic molecules which usually are symbolized as letters:\n",
    "Adenine ('A'), Cytosine ('C'), Guanine ('G'), Thymine ('T') (in RNA Uracil 'U' is found instead of Thymine).\n",
    "A sequence of nucleotides is therefore a sequence of letters, for instance CATCGATCAGTAGAGTTTAC...\n",
    "In a nutshell, the genetic material of the virus can be described as a long sequence of these four letters.\n",
    "\n",
    "The story is more intricate, and by no means this is a project on computational virology. We are nonetheless borrowing all this for inspiration. The starting point of the project is to consider a DNA sequence. For those of you that don't have any interest in genetics, you can simply assume that the starting point is to consider a very long sequence of letters, where each letter is extracted from an alphabet of four letters (A,C,G,T).\n",
    "\n",
    "This project consists in four parts. In each of the parts you will need to code up some specific functions, run some code, and respond to some questions. Recall that all code needs to be properly documented with `# comments`, and the explanations in these comments will indeed be assessed and you will receive lots of marks for adequate documentation. \n",
    "\n",
    "\n",
    "\n",
    "* The **first part** is about loading data. This data is just a file that depicts a very long 4-letter sequence of DNA nucleotides, something like ATATCGTAGCTAT... \n",
    "This letter sequence characterises the virus genetic material. From now on we will call this the *virus sequence*.\n",
    "\n",
    "* The **second part** is about some basic manipulation and visualisation of the virus sequence.\n",
    "\n",
    "* The **third part** is about computing some statistics of this sequence and do some additional visualisation.\n",
    "\n",
    "\n",
    "<br />\n",
    "\n",
    "Reference: [Wu, F., Zhao, S., Yu, B. et al. A new coronavirus associated with human respiratory disease in China. Nature **579**, 265–269 (2020).](https://doi.org/10.1038/s41586-020-2008-3)\n",
    "\n",
    "---"
   ]
  },
  {
   "cell_type": "markdown",
   "metadata": {},
   "source": [
    "The following code box is used to load any necessary modules. **You may not import any other modules.**"
   ]
  },
  {
   "cell_type": "code",
   "execution_count": 1,
   "metadata": {},
   "outputs": [],
   "source": [
    "#DO NOT CHANGE THE CONTENT OF THIS CODE BOX\n",
    "import matplotlib.pyplot as plt\n",
    "import seaborn\n",
    "import numpy as np\n",
    "import scipy.linalg as la\n",
    "import random"
   ]
  },
  {
   "cell_type": "markdown",
   "metadata": {},
   "source": [
    "# Part 1: Loading data [10 marks total]\n",
    "*** ***\n",
    "\n",
    "<div class=\"alert alert-block alert-danger\">\n",
    "    \n",
    "Please remember to write plenty of `# comments` in the code cells. Mark scheme is depicted in each question. 50% of the marks will go to assess the actual code, and 50% of the marks will go to assess the `# comments`.\n"
   ]
  },
  {
   "cell_type": "markdown",
   "metadata": {},
   "source": [
    "---\n",
    "Load the virus' genome DNA code (the virus sequence). For this,\n",
    "\n",
    "**[1.1] [5 marks]** Define a function that takes a string and converts it into a list of characters, such that the string 'hello' is converted into ['h','e','l','l','o']\n",
    "\n",
    "\n",
    "\n",
    "---"
   ]
  },
  {
   "cell_type": "code",
   "execution_count": 2,
   "metadata": {},
   "outputs": [],
   "source": [
    "def split(string):\n",
    "    return [char for char in string]"
   ]
  },
  {
   "cell_type": "markdown",
   "metadata": {},
   "source": [
    "---\n",
    "**[1.2] [5 marks]** Subsequently, open the file *sequence.txt* (you should download this file from qmplus and store it in the same folder of your Jupyter Notebook). Read and load the data of the file in a string variable called *str1*. Remove any newline characters from *str1*, and, using the code of question [1.1], store the resulting string in a list of characters called *str2*. As a result, the elements of *str2* should be the letters of the sequence. From now on we will refer to *str2* as the virus sequence.\n",
    "\n",
    "---"
   ]
  },
  {
   "cell_type": "code",
   "execution_count": 3,
   "metadata": {},
   "outputs": [],
   "source": [
    "str2 = []\n",
    "\n",
    "with open(\"sequence.txt\", \"r\") as f:\n",
    "    for line in f:\n",
    "        str2.extend(line.strip())"
   ]
  },
  {
   "cell_type": "markdown",
   "metadata": {},
   "source": [
    "\n",
    "# Part 2: Visualising the genome [45 marks total]\n",
    "*** ***\n",
    "\n",
    "<div class=\"alert alert-block alert-danger\">\n",
    "    \n",
    "Please remember to write plenty of `# comments` in the code cells. Mark scheme is depicted in each question. 50% of the marks will go to assess the actual code, and 50% of the marks will go to assess the `# comments`.\n",
    "\n",
    "\n"
   ]
  },
  {
   "cell_type": "markdown",
   "metadata": {},
   "source": [
    "---\n",
    "**[2.1] [5 marks]** Define a Python function called $mapping$(x) that, given a letter-list $x_L$, generates a number-list $x_N$ by mapping each of the 4 letters into a different number. Specifically, implement the changes\n",
    "$$A \\mapsto -2; \\ C \\mapsto -1; \\ G \\mapsto 1; \\ T \\mapsto 2\\;.$$\n",
    "(For example, $x_L=[A,T,T,A,C,G]$ is mapped into $x_N=[-2,2,2,-2,-1,1]$.) You may assume that there are no other occurring letters.\n",
    "\n",
    "---\n"
   ]
  },
  {
   "cell_type": "code",
   "execution_count": 4,
   "metadata": {},
   "outputs": [
    {
     "data": {
      "text/plain": [
       "[-2, 2, 2, -2, 1, 1]"
      ]
     },
     "execution_count": 4,
     "metadata": {},
     "output_type": "execute_result"
    }
   ],
   "source": [
    "def mapping(x):\n",
    "    mapdict = {'A' : -2, 'C' : 1, 'G' : 1, 'T' : 2}\n",
    "    return [mapdict[_x] for _x in x]\n",
    "\n",
    "TEST_XL = ['A', 'T', 'T', 'A', 'C', 'G']\n",
    "mapping(TEST_XL)"
   ]
  },
  {
   "cell_type": "markdown",
   "metadata": {},
   "source": [
    "---\n",
    "**[2.2] [5 marks]** Implement a function called $walker$(x) that, given a list $x$ of N numbers [x(0), x(1), x(2),...,x(N-1)], outputs a \"walk list\" $y=[y(0), y(1), ..., y(N)]$, defined recursively as: \n",
    "$$y(0) = 0,\\\\\n",
    "y(n) = y(n-1) + x(n-1), \\ \\text{if} \\ 0<n\\leq N$$\n",
    "\n",
    "---\n"
   ]
  },
  {
   "cell_type": "code",
   "execution_count": 8,
   "metadata": {},
   "outputs": [],
   "source": [
    "def walker(x):\n",
    "    y = [None] * len(x)\n",
    "    y[0] = 0\n",
    "    for i in range(1, len(x)):\n",
    "        y[i] = y[i-1] + x[i-1]\n",
    "    return y"
   ]
  },
  {
   "cell_type": "code",
   "execution_count": 9,
   "metadata": {},
   "outputs": [
    {
     "data": {
      "text/plain": [
       "[0, -2, 0, 2, 0, 1]"
      ]
     },
     "execution_count": 9,
     "metadata": {},
     "output_type": "execute_result"
    }
   ],
   "source": [
    "walker(mapping(TEST_XL))"
   ]
  },
  {
   "cell_type": "markdown",
   "metadata": {},
   "source": [
    "---\n",
    "\n",
    "**[2.3] [10 marks]** Given points $(x_i,y_i)$ in the plane, a least-squares fit to a line $y=a x + b$ gives formulas for the slope $a$ and the intercept $y=b$ as\n",
    "$$a=\\frac{\\langle x_iy_i\\rangle-\\langle x_i\\rangle\\langle y_i\\rangle}{\\langle x_i^2\\rangle-\\langle x_i\\rangle^2}\\quad\\text{and}\\quad b=\\langle y_i\\rangle-a\\langle x_i\\rangle\\;,$$\n",
    "where $\\langle r_i\\rangle$ denotes the average of the numbers $r_i$.\n",
    "\n",
    "Without using any imported module, define a function called *linear_fit()* that:\n",
    "* takes a (finite) list of points $z=[(x_0,y_0),(x_1,y_1),(x_2,y_2),...]$ as an input,\n",
    "* fits a straight line to $y=a x + b$ by performing a least-squares fit,\n",
    "* returns the values of $a$ and $b$.\n",
    "\n",
    "Use\n",
    "```python\n",
    "def linear_fit_test(z):\n",
    "    a,b=np.polyfit(*zip(*z), 1)\n",
    "    return a,b\n",
    "```\n",
    "\n",
    "to compare the output of both functions for some well-chosen list of points to ensure that your function works appropriately.\n",
    "\n",
    "---\n"
   ]
  },
  {
   "cell_type": "code",
   "execution_count": 23,
   "metadata": {},
   "outputs": [],
   "source": [
    "def linear_fit_test(z):\n",
    "    a,b=np.polyfit(*zip(*z), 1)\n",
    "    return a,b\n",
    "\n",
    "def linear_fit(z):\n",
    "    n = len(z)\n",
    "    sum_x = 0.\n",
    "    sum_y = 0.\n",
    "    sum_xx = 0.\n",
    "    sum_xy = 0.\n",
    "    for xi, yi in z:\n",
    "        sum_x += xi\n",
    "        sum_y += yi\n",
    "        sum_xx += xi * xi\n",
    "        sum_xy += xi * yi\n",
    "        \n",
    "    avg_x = sum_x / n\n",
    "    avg_y = sum_y / n\n",
    "    avg_xy = sum_xy / n\n",
    "    avg_xx = sum_xx / n\n",
    "    a = (avg_xy - avg_x*avg_y) / (avg_xx - avg_x*avg_x)\n",
    "    b = avg_y - a*avg_x\n",
    "    return a, b"
   ]
  },
  {
   "cell_type": "code",
   "execution_count": 26,
   "metadata": {},
   "outputs": [
    {
     "data": {
      "text/plain": [
       "[(1, 2), (1.9, 3.9), (3.1, 6.0), (1.4, 2.9), (2.3, 4.2)]"
      ]
     },
     "execution_count": 26,
     "metadata": {},
     "output_type": "execute_result"
    }
   ],
   "source": [
    "x = [1, 1.9, 3.1, 1.4, 2.3]\n",
    "y = [2, 3.9, 6.0, 2.9, 4.2]\n",
    "z = list(zip(x, y))\n",
    "z"
   ]
  },
  {
   "cell_type": "code",
   "execution_count": 31,
   "metadata": {},
   "outputs": [
    {
     "data": {
      "text/plain": [
       "False"
      ]
     },
     "execution_count": 31,
     "metadata": {},
     "output_type": "execute_result"
    }
   ],
   "source": [
    "linear_fit(z) == linear_fit_test(z)"
   ]
  },
  {
   "cell_type": "code",
   "execution_count": 28,
   "metadata": {},
   "outputs": [
    {
     "data": {
      "text/plain": [
       "(1.8363499245852193, 0.23748114630467532)"
      ]
     },
     "execution_count": 28,
     "metadata": {},
     "output_type": "execute_result"
    }
   ],
   "source": [
    "linear_fit_test(z)"
   ]
  },
  {
   "cell_type": "markdown",
   "metadata": {},
   "source": [
    "---\n",
    "**[2.4] [5 marks]** Using the function *linear_fit()* or otherwise, define a function called *linear_trend()* that:\n",
    "* takes a list of numbers $z=[z_0,z_1,z_2,...]$ as an input;\n",
    "* fits a straight line to $y=\\alpha x + \\beta $ to the data of the form $(p,z_p)$;\n",
    "* finally returns a list of the same size as $z$, such that the p-th element of that list displays $\\alpha p + \\beta$.\n",
    "\n",
    "---\n"
   ]
  },
  {
   "cell_type": "code",
   "execution_count": null,
   "metadata": {},
   "outputs": [],
   "source": []
  },
  {
   "cell_type": "markdown",
   "metadata": {},
   "source": [
    "---\n",
    "**[2.5] [10 marks]** Plot a graph that shows the list *virus_walk = walker(mapping(str2))*, along with the best straight line fit obtained from *linear_trend(walker(mapping(str2)))*, where *str2* is a list that contains the virus sequence. \n",
    "\n",
    "The detrended virus walk removes the linear trend (detrends) from the virus walk. Its generic p-th element is   \n",
    "$$\\text{detrended_virus_walk}[p] = \\text{virus_walk}[p] - (a p + b) $$\n",
    "\n",
    "In a second plot, show the detrended virus walk.\n",
    "\n",
    "---"
   ]
  },
  {
   "cell_type": "code",
   "execution_count": null,
   "metadata": {
    "scrolled": true
   },
   "outputs": [],
   "source": []
  },
  {
   "cell_type": "markdown",
   "metadata": {},
   "source": [
    "---\n",
    "**[2.6] [10 marks]** A simple random walk is defined as a walk list $y=[y(0), y(1), ..., y(N)]$, defined recursively as: \n",
    "$$y(0) = 0,\\\\\n",
    "y(n) = y(n-1) + x(n-1), \\ \\text{if} \\ 0<n\\leq N$$ where for each n the steps *x(n)* are random values extracted from some set. \n",
    "\n",
    "Generate **five** simple random walks of length equal to *walker(mapping(str2))* with steps generated at random from the set $\\{-2,2\\}$. You may wish to generate random steps using the function *random.choice()*.\n",
    "\n",
    "Show, in a plot, the detrended walk *detrended_virus_walk*, together with these five simple random walks.\n",
    "\n",
    "Compare the detrended walk with the simple random walks. What do you notice? If you can, formulate a conjecture based on your observations.\n",
    "\n",
    "---"
   ]
  },
  {
   "cell_type": "code",
   "execution_count": null,
   "metadata": {
    "collapsed": true,
    "jupyter": {
     "outputs_hidden": true
    }
   },
   "outputs": [],
   "source": []
  },
  {
   "cell_type": "markdown",
   "metadata": {},
   "source": [
    "** Write the comments in this box **"
   ]
  },
  {
   "cell_type": "markdown",
   "metadata": {},
   "source": [
    "# Part 3 -- Statistical analysis of the genome [45 marks total]\n",
    "*** ***\n",
    "<div class=\"alert alert-block alert-danger\">\n",
    "    \n",
    "Please remember to write plenty of `# comments` in the code cells. Mark scheme is depicted in each question. 50% of the marks will go to assess the actual code, and 50% of the marks will go to assess the `# comments`.\n"
   ]
  },
  {
   "cell_type": "markdown",
   "metadata": {},
   "source": [
    "---\n",
    "**[3.1] [7 marks]** Define a function called *freq()* that computes the histogram of a virus sequence list. \n",
    "For this function, you cannot use any function defined in any module. \n",
    "\n",
    "Use the function *freq()* to plot a frequency histogram (bargraph plot) of the virus sequence, where the frequency of each nucleotide should appear as a blue bar, and the x axis should depict the four nucleotides A,C,G and T from left to right in alphabetical order.\n",
    "\n",
    "---"
   ]
  },
  {
   "cell_type": "code",
   "execution_count": null,
   "metadata": {
    "scrolled": true
   },
   "outputs": [],
   "source": []
  },
  {
   "cell_type": "markdown",
   "metadata": {},
   "source": [
    "---\n",
    "**[3.2] [8 marks]** A so-called *2-gram* is defined as a block of two consecutive letters. For instance, in the sequence AACTGC we can find five different 2-grams: AA, AC, CT, TG and GC (notice that two consecutive 2-grams overlap in one letter). It is easy to see that in a sequence of $N$ letters, we can count $N-1$ 2-grams (many of them may be repeated, so the total number of *different* 2-grams is possibly smaller).\n",
    "\n",
    "For sequences composed by letters whose alphabet is of size 4 (like the virus RNA, whose alphabet is made by four letters A,C,G and T), there are a total of $2^4=16$ possible 2-grams: AA,AC,AG,AT,...,TT.\n",
    "\n",
    "By modifying the function *freq()* (or otherwise), compute and plot a histogram (bar graph plot) of the frequency of 2-grams in the virus sequence. The x axis should depict all sixteen combinations of the four nucleotides.\n",
    "\n",
    "---"
   ]
  },
  {
   "cell_type": "code",
   "execution_count": null,
   "metadata": {},
   "outputs": [],
   "source": []
  },
  {
   "cell_type": "markdown",
   "metadata": {},
   "source": [
    "---\n",
    "**[3.3] [10 marks]** Let $N(ij)$ be the frequency (that is, the number of occurrences) of the 2-gram 'ij' in the virus sequence, for $i,j=A,C,G,T$.\n",
    "The transition matrix ${\\bf T}=\\{T_{ij}\\}$ of a given sequence is defined such that the general term $T_{ij} = N(ij)/N_{tot}(i),$\n",
    "where $N_{tot}(i)$ is the frequency of letter 'i' showing up in the sequence. By construction, all rows of $\\bf T$ should sum up one.\n",
    "\n",
    "Compute the $4\\times 4$ transition matrix $\\bf T$ of the virus sequence. Print this matrix and display it as a heatmap of this matrix using *seaborn*.\n",
    "\n",
    "Confirm that the largest eigenvalue of $\\bf T$ is one, and give the associated eigenvector $v$. Check your results by computing ${\\bf T}v$.\n",
    "\n",
    "---"
   ]
  },
  {
   "cell_type": "code",
   "execution_count": null,
   "metadata": {},
   "outputs": [],
   "source": []
  },
  {
   "cell_type": "markdown",
   "metadata": {},
   "source": [
    "---\n",
    "**[3.4] [8 marks]** Define a function called $deviation(x)$. The input of the function is a walk list $x$. This function performs the following computation:\n",
    "* It iteratively considers all possible sublists $x_k=[x(0), ..., x(k)]$, where $k=1,2,4,\\ldots$ runs through powers of $2$.\n",
    "* For each possible value of $k$, the function computes $\\Delta(k) = max(x_k) - min(x_k)$. \n",
    "* The function $deviation$ finally returns a list of the form $[(k,\\Delta(k))]$ for all possible values of $k$. \n",
    "* That final list is called the *scaling* (this is important for next questions below)\n",
    "\n",
    "For the case $x=[0,1,2,3,4,5,6,7,8]$ you should get $[(1, 1), (2, 2), (4, 4), (8, 8)]$, whereas for the case $x=[1,1,1,1]$ you should get $[(1,0),(2,0)]$.\n",
    "\n",
    "---"
   ]
  },
  {
   "cell_type": "code",
   "execution_count": null,
   "metadata": {},
   "outputs": [],
   "source": []
  },
  {
   "cell_type": "markdown",
   "metadata": {},
   "source": [
    "---\n",
    "**[3.5] [5 marks]** Compute the function $deviation(x)$ for both the *detrended_virus_walk* and the five simple random walks. Make a scatter plot of all resulting *scalings* to compare all of these. Make sure that the axis of the plot are in logarithmic scales.\n",
    "\n",
    "---\n"
   ]
  },
  {
   "cell_type": "code",
   "execution_count": null,
   "metadata": {},
   "outputs": [],
   "source": []
  },
  {
   "cell_type": "markdown",
   "metadata": {},
   "source": [
    "---\n",
    "**[3.6] [7 marks]** A power law function $f(z)=az^b$ appears as a straight line when plotted in logarithmic axes. This is so because taking logarithms at both sides of the power law function, we have\n",
    "$\\log(f(z)) = b\\log(z) + \\log(a)$, so if we perform a logarithmic transformation  $\\tilde{Y}=\\log(f(z))$ and $\\tilde{X}=\\log(z)$, in the new variables the power law function is a straight line $\\tilde{Y} = b \\tilde{X} + \\log(a)$, with slope $b$.\n",
    "\n",
    "Fit a power law function of the form $f(z)=az^b$ to the $scaling$ data for the *detrended_virus_walk* by making a linear fit to the logarithmically transformed data. Display the fitted curve together with the scatter plot of the *scaling* data.\n",
    "\n",
    "Give estimates of $a$ and $b$. Investigate in Google and, in a markdown box, explain what $b$ is, and, according to its estimated value, briefly discuss what this tells us about the data, and in this case, about the virus.\n",
    "\n",
    "---\n"
   ]
  },
  {
   "cell_type": "code",
   "execution_count": null,
   "metadata": {
    "scrolled": true
   },
   "outputs": [],
   "source": []
  },
  {
   "cell_type": "markdown",
   "metadata": {},
   "source": [
    "** Write the comments in this box **"
   ]
  }
 ],
 "metadata": {
  "kernelspec": {
   "display_name": "Python 3",
   "language": "python",
   "name": "python3"
  },
  "language_info": {
   "codemirror_mode": {
    "name": "ipython",
    "version": 3
   },
   "file_extension": ".py",
   "mimetype": "text/x-python",
   "name": "python",
   "nbconvert_exporter": "python",
   "pygments_lexer": "ipython3",
   "version": "3.6.10"
  }
 },
 "nbformat": 4,
 "nbformat_minor": 4
}
