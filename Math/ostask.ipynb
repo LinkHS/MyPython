{
 "cells": [
  {
   "cell_type": "markdown",
   "metadata": {},
   "source": [
    "# OS-Task Scheduling\n",
    "\n",
    "## 生成系统任务\n",
    "如何生成系统tasks请参考论文[Techniques For The Synthesis Of Multiprocessor Tasksets](https://www.cs.york.ac.uk/rts/static/papers/R:Emberson:2010a.pdf)，对应Python版本的[代码](https://github.com/Hoseinkangavarnazari/RT_TaskGenerator_scheduler)"
   ]
  },
  {
   "cell_type": "code",
   "execution_count": 1,
   "metadata": {
    "ExecuteTime": {
     "end_time": "2020-07-31T03:27:41.935864Z",
     "start_time": "2020-07-31T03:27:41.353219Z"
    }
   },
   "outputs": [],
   "source": [
    "import numpy as np\n",
    "import matplotlib.pyplot as plt\n",
    "\n",
    "from pprint import pprint"
   ]
  },
  {
   "cell_type": "code",
   "execution_count": 36,
   "metadata": {
    "ExecuteTime": {
     "end_time": "2020-07-31T05:45:24.281202Z",
     "start_time": "2020-07-31T05:45:23.997751Z"
    },
    "scrolled": false
   },
   "outputs": [
    {
     "name": "stdout",
     "output_type": "stream",
     "text": [
      "         U      T      C      S\n",
      "array([[ 0.1 ,  4.  ,  0.4 ,  1.39],\n",
      "       [ 0.  ,  6.  ,  0.02,  3.09],\n",
      "       [ 0.21,  2.  ,  0.42,  0.48],\n",
      "       [ 0.04,  5.  ,  0.18,  1.05],\n",
      "       [ 0.1 ,  6.  ,  0.62,  0.57],\n",
      "       [ 0.19, 10.  ,  1.86,  6.07],\n",
      "       [ 0.06,  3.  ,  0.19,  2.78],\n",
      "       [ 0.04,  4.  ,  0.17,  0.08],\n",
      "       [ 0.03, 10.  ,  0.32,  3.95],\n",
      "       [ 0.02,  8.  ,  0.19,  1.75]])\n",
      "sum of eachU = 0.8\n"
     ]
    },
    {
     "data": {
      "image/png": "[encoded data removed]",
      "text/plain": [
       "<Figure size 1080x455.179 with 1 Axes>"
      ]
     },
     "metadata": {
      "needs_background": "light"
     },
     "output_type": "display_data"
    }
   ],
   "source": [
    "from numpy.random import randint, uniform\n",
    "\n",
    "\n",
    "def GenerateTasks(n, tU, verbose=False, draw=False):\n",
    "    \"\"\"\n",
    "    @n, number of tasks\n",
    "    @tU, system utilization of generated tasks\n",
    "\n",
    "    生成参数：[T, C, S, Bs, Es]\n",
    "        @U: 任务系统占用率，U = uunifast(n, tU)_i\n",
    "        @T: 任务周期，随机整数，[2, 10]\n",
    "        @C: 任务运行时长，C = U*T，约束1\n",
    "        @D: -\n",
    "        @S: 任务启动时间，随机小数，[0, T-C)，约束2\n",
    "        @Bs: 允许提前时间，随机小数，[0, S]，约束3\n",
    "        @Es: 允许滞后时间，随机小数，[0, T-(C+S)]，约束4\n",
    "    约束：\n",
    "        1. U = C / T         任务系统占用率 = 运行时间 / 周期\n",
    "        2. T - (C+S) > 0     周期 > 运行时长+启动时间\n",
    "        3. S - Bs >= 0       启动时间 >= 提前时间\n",
    "        4. T - (C+S+Es) > 0  周期 > 运行时长+启动时间+滞后时间\n",
    "    \"\"\"\n",
    "    sumU = tU\n",
    "    eachU = []\n",
    "    for i in range(1, n):\n",
    "        nextSumU = sumU * (uniform(0, 1)**(1/(n-i)))\n",
    "        eachU.append(sumU-nextSumU)\n",
    "        sumU = nextSumU\n",
    "    eachU.append(sumU)\n",
    "    eachU = np.array(eachU)\n",
    "    eachT = randint(low=2, high=10+1, size=n)  # period\n",
    "    eachC = eachT * eachU\n",
    "    eachS = uniform(0, eachT-eachC)\n",
    "\n",
    "    tasks = np.stack([eachU, eachT, eachC, eachS]).T\n",
    "    if verbose:\n",
    "        print('         U      T      C      S')\n",
    "        pprint(np.round(tasks, 2))\n",
    "        print('sum of eachU =', eachU.sum())\n",
    "        \n",
    "    if draw:\n",
    "        plt.figure(figsize=(15, 3+np.log2(len(tasks))))\n",
    "        for i, task in enumerate(tasks, 1):\n",
    "            iC, iS = 2, 3\n",
    "            plt.plot([task[iS], task[iC]+task[iS]], [i, i], linewidth=5, label='task%d'%(i))\n",
    "        plt.ylim(0, len(tasks)+1)\n",
    "        plt.xlim(0,(tasks[:,iC]+tasks[:,iS]).max()+1)\n",
    "        plt.title('%d tasks with U=%.2f%%'%(n, tU*100))\n",
    "        plt.legend()\n",
    "        plt.show()\n",
    "    return tasks\n",
    "\n",
    "tasks = GenerateTasks(10, 0.8, verbose=True, draw=True)"
   ]
  },
  {
   "attachments": {},
   "cell_type": "markdown",
   "metadata": {},
   "source": [
    "\n",
    "| S1-Ei | S2-Ei  | S3-Ei  | S4-Ei  | S5-Ei  |\n",
    "| :-: | :-: | :-: | :-: | :-: |\n",
    "| b11 |\tb21 | b31 | b41\t| b51 |\n",
    "| b12 |\tb22 | b32 | b42\t| b52 |\n",
    "| b13 |\tb23 | b33 | b43\t| b53 |\n",
    "| b14 |\tb24 | b34 | b44\t| b54 |\n",
    "| b15 |\tb25 | b35 | b45\t| b55 |\n",
    "\n",
    "对于任务1来说：\n",
    "- 第一行：其他任务开始时间`Si` - 任务1结束时间`E1`。结果应该大于等于0。\n",
    "- 第一列：任务1开始时间`S1` - 其他任务结束时间`Ei`。结果应该大于等于0。\n",
    "\n",
    "只有其他任务同时违反了才是真的违反。例如`b21`和`b12`同时小于0时，任务1和2才冲突。"
   ]
  },
  {
   "cell_type": "code",
   "execution_count": 43,
   "metadata": {
    "ExecuteTime": {
     "end_time": "2020-07-31T06:13:00.776601Z",
     "start_time": "2020-07-31T06:13:00.764484Z"
    }
   },
   "outputs": [],
   "source": [
    "class OSTasks():\n",
    "    iC = 2 # 任务运行时长所在列\n",
    "    iS = 3 # 任务启动时间所在列\n",
    "    \n",
    "    def __init__(self, task_matrix):\n",
    "        self.tm = task_matrix # task matrix\n",
    "        self.optimizer = None\n",
    "    \n",
    "    @property\n",
    "    def S(self):\n",
    "        return self.tm[:, self.iS]\n",
    "\n",
    "    @property\n",
    "    def C(self):\n",
    "        return self.tm[:, self.iC]\n",
    "\n",
    "    def compute_cv(self, mask=None):\n",
    "        \"\"\"返回 constrain value\"\"\"\n",
    "        S = self.S          # 开始时刻\n",
    "        E = self.C + self.S # 结束时刻\n",
    "        num = len(S)\n",
    "        if not mask:\n",
    "            mask = np.array([1] * 5, dtype=bool)\n",
    "        \n",
    "        matrix = np.tile(S, (num, 1)) # 复制num行\n",
    "        matrix -= E.reshape(-1, 1)    # 行为Si - E；列为S-Ei\n",
    "        \n",
    "        # 选出违反这两条件的: 1. Si-E >= 0; 2. S-Ei >= 0\n",
    "        # 1. 其他任务开始时间需要晚于当前任务结束时间\n",
    "        # 2. 当前任务开始时间需要晚于其他任务结束时间\n",
    "        bmatrix = matrix < 0\n",
    "        cm = [bmatrix[i] & bmatrix[:,i] for i in range(num)]\n",
    "\n",
    "        each_cv = [cm_row.sum(where=mask) for cm_row in cm]\n",
    "        each_cv = np.subtract(each_cv, 1, where=mask) # 减去自己\n",
    "        each_cv[~mask] = 0\n",
    "        return each_cv.sum() / 2 "
   ]
  },
  {
   "cell_type": "code",
   "execution_count": 44,
   "metadata": {
    "ExecuteTime": {
     "end_time": "2020-07-31T06:13:00.930869Z",
     "start_time": "2020-07-31T06:13:00.907852Z"
    }
   },
   "outputs": [
    {
     "ename": "TypeError",
     "evalue": "bad operand type for unary ~: 'NoneType'",
     "output_type": "error",
     "traceback": [
      "\u001b[0;31m---------------------------------------------------------------------------\u001b[0m",
      "\u001b[0;31mTypeError\u001b[0m                                 Traceback (most recent call last)",
      "\u001b[0;32m<ipython-input-44-b72afd01d0dd>\u001b[0m in \u001b[0;36m<module>\u001b[0;34m\u001b[0m\n\u001b[1;32m      1\u001b[0m \u001b[0mos_tasks\u001b[0m \u001b[0;34m=\u001b[0m \u001b[0mOSTasks\u001b[0m\u001b[0;34m(\u001b[0m\u001b[0mtasks\u001b[0m\u001b[0;34m)\u001b[0m\u001b[0;34m\u001b[0m\u001b[0;34m\u001b[0m\u001b[0m\n\u001b[0;32m----> 2\u001b[0;31m \u001b[0mos_tasks\u001b[0m\u001b[0;34m.\u001b[0m\u001b[0mcompute_cv\u001b[0m\u001b[0;34m(\u001b[0m\u001b[0;34m)\u001b[0m\u001b[0;34m\u001b[0m\u001b[0;34m\u001b[0m\u001b[0m\n\u001b[0m",
      "\u001b[0;32m<ipython-input-43-cda0dfeda2df>\u001b[0m in \u001b[0;36mcompute_cv\u001b[0;34m(self, mask)\u001b[0m\n\u001b[1;32m     32\u001b[0m         \u001b[0meach_cv\u001b[0m \u001b[0;34m=\u001b[0m \u001b[0;34m[\u001b[0m\u001b[0mcm_row\u001b[0m\u001b[0;34m.\u001b[0m\u001b[0msum\u001b[0m\u001b[0;34m(\u001b[0m\u001b[0mwhere\u001b[0m\u001b[0;34m=\u001b[0m\u001b[0mmask\u001b[0m\u001b[0;34m)\u001b[0m \u001b[0;32mfor\u001b[0m \u001b[0mcm_row\u001b[0m \u001b[0;32min\u001b[0m \u001b[0mcm\u001b[0m\u001b[0;34m]\u001b[0m\u001b[0;34m\u001b[0m\u001b[0;34m\u001b[0m\u001b[0m\n\u001b[1;32m     33\u001b[0m         \u001b[0meach_cv\u001b[0m \u001b[0;34m=\u001b[0m \u001b[0mnp\u001b[0m\u001b[0;34m.\u001b[0m\u001b[0msubtract\u001b[0m\u001b[0;34m(\u001b[0m\u001b[0meach_cv\u001b[0m\u001b[0;34m,\u001b[0m \u001b[0;36m1\u001b[0m\u001b[0;34m,\u001b[0m \u001b[0mwhere\u001b[0m\u001b[0;34m=\u001b[0m\u001b[0mmask\u001b[0m\u001b[0;34m)\u001b[0m \u001b[0;31m# 减去自己\u001b[0m\u001b[0;34m\u001b[0m\u001b[0;34m\u001b[0m\u001b[0m\n\u001b[0;32m---> 34\u001b[0;31m         \u001b[0meach_cv\u001b[0m\u001b[0;34m[\u001b[0m\u001b[0;34m~\u001b[0m\u001b[0mmask\u001b[0m\u001b[0;34m]\u001b[0m \u001b[0;34m=\u001b[0m \u001b[0;36m0\u001b[0m\u001b[0;34m\u001b[0m\u001b[0;34m\u001b[0m\u001b[0m\n\u001b[0m\u001b[1;32m     35\u001b[0m         \u001b[0;32mreturn\u001b[0m \u001b[0meach_cv\u001b[0m\u001b[0;34m.\u001b[0m\u001b[0msum\u001b[0m\u001b[0;34m(\u001b[0m\u001b[0;34m)\u001b[0m \u001b[0;34m/\u001b[0m \u001b[0;36m2\u001b[0m\u001b[0;34m\u001b[0m\u001b[0;34m\u001b[0m\u001b[0m\n",
      "\u001b[0;31mTypeError\u001b[0m: bad operand type for unary ~: 'NoneType'"
     ]
    }
   ],
   "source": [
    "os_tasks = OSTasks(tasks)\n",
    "os_tasks.compute_cv()"
   ]
  },
  {
   "cell_type": "code",
   "execution_count": 5,
   "metadata": {
    "ExecuteTime": {
     "end_time": "2020-07-31T03:27:42.226975Z",
     "start_time": "2020-07-31T03:27:42.211854Z"
    },
    "scrolled": true
   },
   "outputs": [
    {
     "name": "stdout",
     "output_type": "stream",
     "text": [
      "bmatrix:\n",
      " [[ True False False False False]\n",
      " [ True  True False False  True]\n",
      " [ True  True  True  True  True]\n",
      " [ True  True  True  True  True]\n",
      " [ True  True  True  True  True]]\n",
      "[array([ True, False, False, False, False]),\n",
      " array([False,  True, False, False,  True]),\n",
      " array([False, False,  True,  True,  True]),\n",
      " array([False, False,  True,  True,  True]),\n",
      " array([False,  True,  True,  True,  True])]\n",
      "each_cv: [0 1 0 1 2]\n",
      "4\n"
     ]
    }
   ],
   "source": [
    "def calCV(cm, mask):\n",
    "    \"\"\"\n",
    "        @cm: constrain matrix\n",
    "    \"\"\"\n",
    "    #print(cm)\n",
    "    each_cv = [cm_row.sum(where=mask) for cm_row in cm]\n",
    "    each_cv = np.subtract(each_cv, 1, where=mask)\n",
    "    each_cv[~mask] = 0\n",
    "    print('each_cv:', each_cv)\n",
    "    sum_cv = np.sum(each_cv) # constrain value\n",
    "    return sum_cv\n",
    "    \n",
    "def TEST_constrain():\n",
    "    Mask = np.array([1, 1, 0, 1, 1], dtype=bool)\n",
    "    S = np.array([1, 3, 4, 5, 3])\n",
    "    E = np.array([2, 4, 8, 6, 12])\n",
    "    l = len(S)\n",
    "    matrix = np.tile(S, (l, 1))\n",
    "    matrix -= E.reshape(-1, 1)\n",
    "\n",
    "    bmatrix = matrix < 0 # 选出违反条件的\n",
    "    print('bmatrix:\\n', bmatrix)\n",
    "    cm = [bmatrix[i] & bmatrix[:,i] for i in range(l)]\n",
    "    pprint(cm)\n",
    "    cv = calCV(cm, Mask)\n",
    "    \n",
    "    print(cv)\n",
    "\n",
    "TEST_constrain()"
   ]
  },
  {
   "cell_type": "code",
   "execution_count": 6,
   "metadata": {
    "ExecuteTime": {
     "end_time": "2020-07-31T03:27:42.240879Z",
     "start_time": "2020-07-31T03:27:42.230792Z"
    }
   },
   "outputs": [
    {
     "data": {
      "text/plain": [
       "array([                  0,                   1,                   2,\n",
       "       4624633867356078080, 4624633867356078080, 4624633867356078080])"
      ]
     },
     "execution_count": 6,
     "metadata": {},
     "output_type": "execute_result"
    }
   ],
   "source": [
    "a = np.array([1, 2, 3, 4, 5, 6])\n",
    "mask = np.array([1, 1, 1, 0, 0, 0], dtype=bool)\n",
    "\n",
    "np.subtract(a, 1, where=mask)"
   ]
  },
  {
   "cell_type": "markdown",
   "metadata": {
    "ExecuteTime": {
     "end_time": "2020-07-06T10:04:45.898810Z",
     "start_time": "2020-07-06T10:04:45.893585Z"
    }
   },
   "source": [
    "$\\text{obj} = \\sum_i^n x_i$\n",
    "\n",
    "$\\text{arg max}F(x)$\n",
    "\n",
    "$\\underset{x_i}{\\arg \\max } f(x_i) = \\arg \\max_x\\ \\sum x_i$\n"
   ]
  },
  {
   "cell_type": "markdown",
   "metadata": {},
   "source": [
    "## 建立优化模型"
   ]
  },
  {
   "cell_type": "code",
   "execution_count": 7,
   "metadata": {
    "ExecuteTime": {
     "end_time": "2020-07-31T03:27:43.198367Z",
     "start_time": "2020-07-31T03:27:42.245554Z"
    }
   },
   "outputs": [],
   "source": [
    "import numpy as np\n",
    "import geatpy as ea\n",
    "\n",
    "class OSScheduling(ea.Problem):\n",
    "    \"\"\"\n",
    "    variable:\n",
    "        x_i: 每个任务是否被执行\n",
    "    \"\"\"\n",
    "    def __init__(self):\n",
    "        name = 'OS-Scheduling'\n",
    "        M = 1             # 优化目标维数\n",
    "        maxormins = [-1]  # 目标最小/最大化，1:min；-1:max\n",
    "        Dim = 1           # 决策变量维数\n",
    "        varTypes = [1] * Dim  # 决策变量类型，0:连续；1:离散\n",
    "        lb = [0]          # 决策变量下界\n",
    "        ub = [5]    \n",
    "        lbin = [1]        # 决策变量下界类型，1包含边界，0不包含\n",
    "        ubin = [1]  \n",
    "        ea.Problem.__init__(self, name, M, maxormins, Dim,\n",
    "                            varTypes, lb, ub, lbin, ubin)\n",
    "    \n",
    "    def readTasks(self, tasks):\n",
    "        S = tasks[:,iS]\n",
    "        E = tasks[:,iC] + S\n",
    "        num = len(S)\n",
    "        matrix = np.tile(S, (num, 1)) # 复制num行\n",
    "        matrix -= E.reshape(-1, 1)    # 行为Si - E；列为-(Ei-S)\n",
    "\n",
    "        # 选出违反这两条件的: 1. Si-E >= 0; 2. Ei-S <= 0\n",
    "        # 1. 其他任务开始时间晚于当前任务结束时间\n",
    "        # 2. 其他任务结束时间早于当前任务开始时间\n",
    "        self.bmatrix = matrix < 0\n",
    "    \n",
    "    \n",
    "    def calCV(cm, mask):\n",
    "        \"\"\"\n",
    "            @cm: constrain matrix\n",
    "        \"\"\"\n",
    "        #print(cm)\n",
    "        each_cv = [cm_row.sum(where=mask) for cm_row in cm]\n",
    "        each_cv = np.subtract(each_cv, 1, where=mask)\n",
    "        each_cv[~mask] = 0\n",
    "        #print(each_cv)\n",
    "        sum_cv = np.sum(each_cv) # constrain value\n",
    "        return sum_cv\n",
    "        \n",
    "    def aimFunc(self, pop):\n",
    "        \"\"\"目标函数\n",
    "            @pop：传入的种群对象\n",
    "        \"\"\"\n",
    "        Vars = pop.Phen    # 决策变量矩阵\n",
    "        x1 = Vars[:, [0]]  # 变量x1组成的列向量\n",
    "        #x2 = Vars[:, [1]]  \n",
    "        #x3 = Vars[:, [2]]\n",
    "        \n",
    "        pop.ObjV = 4*x1 + 2*x2 + x3 # 目标函数值\n",
    "        # 采用可行性法则处理约束，生成种群个体违反约束程度矩阵\n",
    "        pop.CV = np.hstack([2*x1 + x2 - 1,  # 第一个约束\n",
    "                            x1 + 2*x3 - 2,  # 第二个约束\n",
    "                            np.abs(x1 + x2 + x3 - 1)])  # 第三个约束"
   ]
  },
  {
   "cell_type": "code",
   "execution_count": null,
   "metadata": {},
   "outputs": [],
   "source": []
  },
  {
   "cell_type": "code",
   "execution_count": null,
   "metadata": {},
   "outputs": [],
   "source": []
  },
  {
   "cell_type": "code",
   "execution_count": null,
   "metadata": {},
   "outputs": [],
   "source": []
  },
  {
   "cell_type": "code",
   "execution_count": null,
   "metadata": {},
   "outputs": [],
   "source": []
  },
  {
   "cell_type": "code",
   "execution_count": null,
   "metadata": {},
   "outputs": [],
   "source": []
  },
  {
   "cell_type": "markdown",
   "metadata": {},
   "source": [
    "# Backup"
   ]
  },
  {
   "cell_type": "code",
   "execution_count": 8,
   "metadata": {
    "ExecuteTime": {
     "end_time": "2020-07-31T03:27:43.256494Z",
     "start_time": "2020-07-31T03:27:43.200440Z"
    }
   },
   "outputs": [],
   "source": [
    "%%script true\n",
    "import random\n",
    "def generateTaskFromUtilization(UtilizationSet):\n",
    "    taskList = []\n",
    "    for i in range(len(UtilizationSet)):\n",
    "        p = random.randint(2, 10) # period\n",
    "        e = p * UtilizationSet[i] # in one hyper-period\n",
    "        taskList.append([p, e])\n",
    "    return taskList\n",
    "\n",
    "\n",
    "def uunifast(n, tU):\n",
    "    vectU = []\n",
    "    sumU = tU\n",
    "    for i in range(1, n):\n",
    "        nextSumU = sumU * (random.uniform(0, 1)**(1/(n-i)))\n",
    "        vectU.append(sumU-nextSumU)\n",
    "        sumU = nextSumU\n",
    "    vectU.append(sumU)\n",
    "    AllSum = 0\n",
    "\n",
    "    # summation over all utilization for finding global utilization\n",
    "    for i in range(len(vectU)):\n",
    "        AllSum += vectU[i]\n",
    "\n",
    "    return AllSum, vectU\n",
    "\n",
    "\n",
    "def uunifasts(N, n, tU):\n",
    "    counter = 1\n",
    "    while(counter <= N):\n",
    "        Sum, Vect = uunifast(n, tU)\n",
    "        # Because of rounding errors, utilization may not be same as given U\n",
    "        # for example, 0.9999 is unacceptable when utilization(U) is equal to 1\n",
    "        if(Sum == tU):\n",
    "            # call function that makes the\n",
    "            taskSet = generateTaskFromUtilization(Vect)\n",
    "            counter += 1"
   ]
  }
 ],
 "metadata": {
  "kernelspec": {
   "display_name": "Python 3",
   "language": "python",
   "name": "python3"
  },
  "language_info": {
   "codemirror_mode": {
    "name": "ipython",
    "version": 3
   },
   "file_extension": ".py",
   "mimetype": "text/x-python",
   "name": "python",
   "nbconvert_exporter": "python",
   "pygments_lexer": "ipython3",
   "version": "3.6.10"
  },
  "toc": {
   "base_numbering": 1,
   "nav_menu": {},
   "number_sections": true,
   "sideBar": true,
   "skip_h1_title": false,
   "title_cell": "Table of Contents",
   "title_sidebar": "Contents",
   "toc_cell": false,
   "toc_position": {},
   "toc_section_display": true,
   "toc_window_display": true
  }
 },
 "nbformat": 4,
 "nbformat_minor": 4
}
